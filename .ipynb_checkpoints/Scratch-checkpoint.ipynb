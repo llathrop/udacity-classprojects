{
 "cells": [
  {
   "cell_type": "markdown",
   "metadata": {},
   "source": [
    "# Scratch Pad!\n",
    "### Whatever I try out today will live here"
   ]
  },
  {
   "cell_type": "code",
   "execution_count": 104,
   "metadata": {
    "collapsed": false
   },
   "outputs": [
    {
     "name": "stdout",
     "output_type": "stream",
     "text": [
      "HelloWorld!\n"
     ]
    }
   ],
   "source": [
    "import math\n",
    "import string\n",
    "import sys\n",
    "import os\n",
    "\n",
    "sys.path.append(\"./udacity-ud120/\")\n",
    "import mystatslib \n",
    "\n",
    "import numpy as np\n",
    "import pandas as pd\n",
    "\n",
    "\n",
    "print \"HelloWorld!\""
   ]
  },
  {
   "cell_type": "code",
   "execution_count": 106,
   "metadata": {
    "collapsed": false,
    "scrolled": true
   },
   "outputs": [
    {
     "name": "stdout",
     "output_type": "stream",
     "text": [
      "x y\n",
      "1 5\n",
      "3 6\n",
      "11 1\n",
      "12 36\n",
      "20 100\n"
     ]
    },
    {
     "ename": "NameError",
     "evalue": "name 'bayesSimple' is not defined",
     "output_type": "error",
     "traceback": [
      "\u001b[1;31m---------------------------------------------------------------------------\u001b[0m",
      "\u001b[1;31mNameError\u001b[0m                                 Traceback (most recent call last)",
      "\u001b[1;32m<ipython-input-106-32e8aaec5fdf>\u001b[0m in \u001b[0;36m<module>\u001b[1;34m()\u001b[0m\n\u001b[0;32m     12\u001b[0m \u001b[1;31m#pBgivnotA\u001b[0m\u001b[1;33m\u001b[0m\u001b[1;33m\u001b[0m\u001b[0m\n\u001b[0;32m     13\u001b[0m \u001b[1;33m\u001b[0m\u001b[0m\n\u001b[1;32m---> 14\u001b[1;33m \u001b[1;32mprint\u001b[0m \u001b[0mbayesSimple\u001b[0m\u001b[1;33m(\u001b[0m\u001b[0mpBgivA\u001b[0m\u001b[1;33m,\u001b[0m\u001b[0mpA\u001b[0m\u001b[1;33m,\u001b[0m\u001b[0mpB\u001b[0m\u001b[1;33m)\u001b[0m\u001b[1;33m\u001b[0m\u001b[0m\n\u001b[0m\u001b[0;32m     15\u001b[0m \u001b[1;31m#bayesAlt(pBgivA,pA,pnotA,pBgivnotA)\u001b[0m\u001b[1;33m\u001b[0m\u001b[1;33m\u001b[0m\u001b[0m\n",
      "\u001b[1;31mNameError\u001b[0m: name 'bayesSimple' is not defined"
     ]
    }
   ],
   "source": [
    "data = [[1,5],[3,6],[11,1],[12,36],[20,100]]\n",
    "print \"x\",\"y\"\n",
    "for i in range(len(data)):\n",
    "    print data[i][0],data[i][1]\n",
    "\n",
    "\n",
    "pBgivA =  .5\n",
    "pA = .98\n",
    "pB = .97\n",
    "\n",
    "#pnotA\n",
    "#pBgivnotA\n",
    "\n",
    "print bayesSimple(pBgivA,pA,pB)\n",
    "\n",
    "#bayesAlt(pBgivA,pA,pnotA,pBgivnotA)"
   ]
  },
  {
   "cell_type": "markdown",
   "metadata": {},
   "source": [
    "\n",
    "#EOF"
   ]
  }
 ],
 "metadata": {
  "kernelspec": {
   "display_name": "Python 2",
   "language": "python",
   "name": "python2"
  },
  "language_info": {
   "codemirror_mode": {
    "name": "ipython",
    "version": 2
   },
   "file_extension": ".py",
   "mimetype": "text/x-python",
   "name": "python",
   "nbconvert_exporter": "python",
   "pygments_lexer": "ipython2",
   "version": "2.7.11"
  }
 },
 "nbformat": 4,
 "nbformat_minor": 0
}
