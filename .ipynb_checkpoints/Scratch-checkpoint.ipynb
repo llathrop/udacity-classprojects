{
 "cells": [
  {
   "cell_type": "markdown",
   "metadata": {},
   "source": [
    "# Scratch Pad!\n",
    "### Whatever I try out today will live here"
   ]
  },
  {
   "cell_type": "code",
   "execution_count": 6,
   "metadata": {
    "collapsed": false
   },
   "outputs": [
    {
     "name": "stdout",
     "output_type": "stream",
     "text": [
      "HelloWorld!\n"
     ]
    }
   ],
   "source": [
    "import math\n",
    "import string\n",
    "import sys\n",
    "import os\n",
    "\n",
    "sys.path.append(\"./udacity-ud120/\")\n",
    "import mystatslib \n",
    "\n",
    "import numpy as np\n",
    "import pandas as pd\n",
    "\n",
    "\n",
    "print \"HelloWorld!\""
   ]
  },
  {
   "cell_type": "code",
   "execution_count": 20,
   "metadata": {
    "collapsed": false,
    "scrolled": true
   },
   "outputs": [
    {
     "name": "stdout",
     "output_type": "stream",
     "text": [
      "x d Du\n",
      "1 5 1/ 32\n",
      "3 6 1/ 4\n",
      "11 11 1/ 2\n",
      "12 36 1/ 8\n",
      "20 100 1/ 32\n",
      "1/ 65536\n"
     ]
    },
    {
     "ename": "NameError",
     "evalue": "name 'bayesSimple' is not defined",
     "output_type": "error",
     "traceback": [
      "\u001b[1;31m---------------------------------------------------------------------------\u001b[0m",
      "\u001b[1;31mNameError\u001b[0m                                 Traceback (most recent call last)",
      "\u001b[1;32m<ipython-input-20-7b9e6227b3cb>\u001b[0m in \u001b[0;36m<module>\u001b[1;34m()\u001b[0m\n\u001b[0;32m     16\u001b[0m \u001b[1;31m#pBgivnotA\u001b[0m\u001b[1;33m\u001b[0m\u001b[1;33m\u001b[0m\u001b[0m\n\u001b[0;32m     17\u001b[0m \u001b[1;33m\u001b[0m\u001b[0m\n\u001b[1;32m---> 18\u001b[1;33m \u001b[1;32mprint\u001b[0m \u001b[0mbayesSimple\u001b[0m\u001b[1;33m(\u001b[0m\u001b[0mpBgivA\u001b[0m\u001b[1;33m,\u001b[0m\u001b[0mpA\u001b[0m\u001b[1;33m,\u001b[0m\u001b[0mpB\u001b[0m\u001b[1;33m)\u001b[0m\u001b[1;33m\u001b[0m\u001b[0m\n\u001b[0m\u001b[0;32m     19\u001b[0m \u001b[1;33m\u001b[0m\u001b[0m\n\u001b[0;32m     20\u001b[0m \u001b[1;31m#bayesAlt(pBgivA,pA,pnotA,pBgivnotA)\u001b[0m\u001b[1;33m\u001b[0m\u001b[1;33m\u001b[0m\u001b[0m\n",
      "\u001b[1;31mNameError\u001b[0m: name 'bayesSimple' is not defined"
     ]
    }
   ],
   "source": [
    "data = [[1,5],[3,6],[11,11],[12,36],[20,100]]\n",
    "print \"x\",\"d\", \"Du\"\n",
    "\n",
    "counter=1\n",
    "for i in range(len(data)):\n",
    "    k = (data[i][1]/data[i][0])\n",
    "    counter =  2**k*counter\n",
    "    print data[i][0],data[i][1],\"1/\",2**k\n",
    "print \"1/\",counter\n",
    "\n",
    "pBgivA =  .5\n",
    "pA = .98\n",
    "pB = .97\n",
    "\n",
    "#pnotA\n",
    "#pBgivnotA\n",
    "\n",
    "\n",
    "print bayesSimple(pBgivA,pA,pB)\n",
    "\n",
    "#bayesAlt(pBgivA,pA,pnotA,pBgivnotA)"
   ]
  },
  {
   "cell_type": "markdown",
   "metadata": {},
   "source": [
    "\n",
    "#EOF"
   ]
  }
 ],
 "metadata": {
  "kernelspec": {
   "display_name": "Python 2",
   "language": "python",
   "name": "python2"
  },
  "language_info": {
   "codemirror_mode": {
    "name": "ipython",
    "version": 2
   },
   "file_extension": ".py",
   "mimetype": "text/x-python",
   "name": "python",
   "nbconvert_exporter": "python",
   "pygments_lexer": "ipython2",
   "version": "2.7.11"
  }
 },
 "nbformat": 4,
 "nbformat_minor": 0
}
