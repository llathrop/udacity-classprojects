{
 "cells": [
  {
   "cell_type": "markdown",
   "metadata": {},
   "source": [
    "# Scratch Pad!\n",
    "### Whatever I try out today will live here"
   ]
  },
  {
   "cell_type": "code",
   "execution_count": 15,
   "metadata": {
    "collapsed": false
   },
   "outputs": [
    {
     "name": "stdout",
     "output_type": "stream",
     "text": [
      "HelloWorld!\n"
     ]
    }
   ],
   "source": [
    "import math\n",
    "import string\n",
    "import sys\n",
    "import os\n",
    "\n",
    "sys.path.append(\"./udacity-ud120/\")\n",
    "import mystatslib \n",
    "\n",
    "import numpy as np\n",
    "import pandas as pd\n",
    "\n",
    "\n",
    "print \"HelloWorld!\""
   ]
  },
  {
   "cell_type": "code",
   "execution_count": 16,
   "metadata": {
    "collapsed": false,
    "scrolled": true
   },
   "outputs": [
    {
     "name": "stdout",
     "output_type": "stream",
     "text": [
      "x d Du\n",
      "1 5 1/ 32\n",
      "3 6 1/ 4\n",
      "11 11 1/ 2\n",
      "12 36 1/ 8\n",
      "20 100 1/ 32\n",
      "1/ 65536\n",
      "0.505154639175\n"
     ]
    }
   ],
   "source": [
    "data = [[1,5],[3,6],[11,11],[12,36],[20,100]]\n",
    "print \"x\",\"d\", \"Du\"\n",
    "\n",
    "counter=1\n",
    "for i in range(len(data)):\n",
    "    k = (data[i][1]/data[i][0])\n",
    "    counter =  2**k*counter\n",
    "    print data[i][0],data[i][1],\"1/\",2**k\n",
    "print \"1/\",counter\n",
    "\n",
    "pBgivA =  .5\n",
    "pA = .98\n",
    "pB = .97\n",
    "\n",
    "#pnotA\n",
    "#pBgivnotA\n",
    "\n",
    "\n",
    "print bayesSimple(pBgivA,pA,pB)\n",
    "\n",
    "#bayesAlt(pBgivA,pA,pnotA,pBgivnotA)"
   ]
  },
  {
   "cell_type": "markdown",
   "metadata": {},
   "source": [
    "\n",
    "#EOF"
   ]
  }
 ],
 "metadata": {
  "kernelspec": {
   "display_name": "Python 2",
   "language": "python",
   "name": "python2"
  },
  "language_info": {
   "codemirror_mode": {
    "name": "ipython",
    "version": 2
   },
   "file_extension": ".py",
   "mimetype": "text/x-python",
   "name": "python",
   "nbconvert_exporter": "python",
   "pygments_lexer": "ipython2",
   "version": "2.7.11"
  }
 },
 "nbformat": 4,
 "nbformat_minor": 0
}
