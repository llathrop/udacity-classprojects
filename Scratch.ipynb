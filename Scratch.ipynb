{
 "cells": [
  {
   "cell_type": "markdown",
   "metadata": {},
   "source": [
    "# Scratch Pad!\n",
    "### Whatever I try out today will live here"
   ]
  },
  {
   "cell_type": "code",
   "execution_count": 9,
   "metadata": {
    "collapsed": false
   },
   "outputs": [
    {
     "name": "stdout",
     "output_type": "stream",
     "text": [
      "HelloWorld!\n"
     ]
    }
   ],
   "source": [
    "import math\n",
    "import string\n",
    "import sys\n",
    "import os\n",
    "\n",
    "import numpy as np\n",
    "import pandas as pd\n",
    "\n",
    "\n",
    "print \"HelloWorld!\""
   ]
  },
  {
   "cell_type": "code",
   "execution_count": 99,
   "metadata": {
    "collapsed": false
   },
   "outputs": [
    {
     "name": "stdout",
     "output_type": "stream",
     "text": [
      "[1 6] [7]\n",
      "[2 4] [8]\n",
      "[3 7] [16]\n",
      "[6 8] [44]\n",
      "[7 1] [50]\n",
      "[8 4] [68]\n",
      "lin reg predict: [68]\n",
      "KNeighborsClassifier 1 predict: [[ 8.]]\n",
      "KNeighborsClassifier 3 predict: [[ 42.]]\n",
      "KNeighborsClassifier 1 predict: [[ 8.]]\n",
      "KNeighborsClassifier 3 predict: [[ 24.66666667]]\n"
     ]
    },
    {
     "name": "stderr",
     "output_type": "stream",
     "text": [
      "C:\\Anaconda2\\lib\\site-packages\\sklearn\\utils\\validation.py:515: DataConversionWarning: A column-vector y was passed when a 1d array was expected. Please change the shape of y to (n_samples, ), for example using ravel().\n",
      "  y = column_or_1d(y, warn=True)\n",
      "C:\\Anaconda2\\lib\\site-packages\\sklearn\\utils\\validation.py:386: DeprecationWarning: Passing 1d arrays as data is deprecated in 0.17 and willraise ValueError in 0.19. Reshape your data either using X.reshape(-1, 1) if your data has a single feature or X.reshape(1, -1) if it contains a single sample.\n",
      "  DeprecationWarning)\n",
      "C:\\Anaconda2\\lib\\site-packages\\sklearn\\utils\\validation.py:386: DeprecationWarning: Passing 1d arrays as data is deprecated in 0.17 and willraise ValueError in 0.19. Reshape your data either using X.reshape(-1, 1) if your data has a single feature or X.reshape(1, -1) if it contains a single sample.\n",
      "  DeprecationWarning)\n",
      "C:\\Anaconda2\\lib\\site-packages\\sklearn\\utils\\validation.py:386: DeprecationWarning: Passing 1d arrays as data is deprecated in 0.17 and willraise ValueError in 0.19. Reshape your data either using X.reshape(-1, 1) if your data has a single feature or X.reshape(1, -1) if it contains a single sample.\n",
      "  DeprecationWarning)\n",
      "C:\\Anaconda2\\lib\\site-packages\\sklearn\\utils\\validation.py:386: DeprecationWarning: Passing 1d arrays as data is deprecated in 0.17 and willraise ValueError in 0.19. Reshape your data either using X.reshape(-1, 1) if your data has a single feature or X.reshape(1, -1) if it contains a single sample.\n",
      "  DeprecationWarning)\n",
      "C:\\Anaconda2\\lib\\site-packages\\sklearn\\utils\\validation.py:386: DeprecationWarning: Passing 1d arrays as data is deprecated in 0.17 and willraise ValueError in 0.19. Reshape your data either using X.reshape(-1, 1) if your data has a single feature or X.reshape(1, -1) if it contains a single sample.\n",
      "  DeprecationWarning)\n"
     ]
    }
   ],
   "source": [
    "\n",
    "x=np.array([[1,6],[2,4],[3,7],[6,8],[7,1],[8,4]])\n",
    "y=[[7],[8],[16],[44],[50],[68]]\n",
    "\n",
    "x.reshape(1,-1)\n",
    "\n",
    "for i in range(len(x)):\n",
    "    print x[i],y[i]\n",
    "    \n",
    "from sklearn import linear_model\n",
    "clf =linear_model.LogisticRegression()\n",
    "clf.fit(x,y)\n",
    "print \"lin reg predict:\",clf.predict([4,2])\n",
    "\n",
    "from sklearn.neighbors import KNeighborsRegressor\n",
    "clf =KNeighborsRegressor(n_neighbors =1, p = 2 )\n",
    "clf.fit(x,y)\n",
    "print \"KNeighborsClassifier 1 predict:\",clf.predict([4,2])\n",
    "\n",
    "from sklearn.neighbors import KNeighborsRegressor\n",
    "clf =KNeighborsRegressor(n_neighbors =3, p = 2  )\n",
    "clf.fit(x,y)\n",
    "print \"KNeighborsClassifier 3 predict:\",clf.predict([4,2])\n",
    "\n",
    "from sklearn.neighbors import KNeighborsRegressor\n",
    "clf =KNeighborsRegressor(n_neighbors =1, p = 1)\n",
    "clf.fit(x,y)\n",
    "print \"KNeighborsClassifier 1 predict:\",clf.predict([4,2])\n",
    "\n",
    "from sklearn.neighbors import KNeighborsRegressor\n",
    "clf =KNeighborsRegressor(n_neighbors =3, p = 1  )\n",
    "clf.fit(x,y)\n",
    "print \"KNeighborsClassifier 3 predict:\",clf.predict([4,2])"
   ]
  },
  {
   "cell_type": "markdown",
   "metadata": {},
   "source": [
    "\n",
    "#EOF"
   ]
  },
  {
   "cell_type": "code",
   "execution_count": null,
   "metadata": {
    "collapsed": true
   },
   "outputs": [],
   "source": []
  }
 ],
 "metadata": {
  "kernelspec": {
   "display_name": "Python 2",
   "language": "python",
   "name": "python2"
  },
  "language_info": {
   "codemirror_mode": {
    "name": "ipython",
    "version": 2
   },
   "file_extension": ".py",
   "mimetype": "text/x-python",
   "name": "python",
   "nbconvert_exporter": "python",
   "pygments_lexer": "ipython2",
   "version": "2.7.11"
  }
 },
 "nbformat": 4,
 "nbformat_minor": 0
}
