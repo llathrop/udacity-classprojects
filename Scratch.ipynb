{
 "cells": [
  {
   "cell_type": "markdown",
   "metadata": {},
   "source": [
    "# Scratch Pad!\n",
    "### Whatever I try out today will live here"
   ]
  },
  {
   "cell_type": "code",
   "execution_count": 9,
   "metadata": {
    "collapsed": false
   },
   "outputs": [
    {
     "name": "stdout",
     "output_type": "stream",
     "text": [
      "HelloWorld!\n"
     ]
    }
   ],
   "source": [
    "import math\n",
    "import string\n",
    "import sys\n",
    "import os\n",
    "\n",
    "import numpy as np\n",
    "import pandas as pd\n",
    "\n",
    "\n",
    "print \"HelloWorld!\""
   ]
  },
  {
   "cell_type": "code",
   "execution_count": 55,
   "metadata": {
    "collapsed": false
   },
   "outputs": [
    {
     "name": "stdout",
     "output_type": "stream",
     "text": [
      "And: True False\n",
      "OR: True False\n",
      "NOT: True False\n"
     ]
    }
   ],
   "source": [
    "\n",
    "def perceptron(x,w=0,theta=0):\n",
    "    sum =0\n",
    "\n",
    "    for i in range(len(x)):\n",
    "        sum+=x[i]*w[i]\n",
    "    if sum >=theta:\n",
    "        return True\n",
    "    else:\n",
    "        return False\n",
    "\n",
    "#  AND \n",
    "print \"And:\",perceptron(x= [1,1],w= [.5,.5],theta =3/4.), perceptron(x= [0,1],w= [.5,.5],theta =3/4.)\n",
    "# OR\n",
    "print \"OR:\",perceptron(x= [0,1],w= [1,1],theta =1), perceptron(x= [0,0],w= [1,1],theta =1)\n",
    "# not\n",
    "print \"NOT:\",perceptron(x= [0],w= [-1],theta =0), perceptron(x= [1],w= [-1],theta =0)\n",
    "# XOR?\n"
   ]
  },
  {
   "cell_type": "markdown",
   "metadata": {},
   "source": [
    "\n",
    "#EOF"
   ]
  }
 ],
 "metadata": {
  "kernelspec": {
   "display_name": "Python 2",
   "language": "python",
   "name": "python2"
  },
  "language_info": {
   "codemirror_mode": {
    "name": "ipython",
    "version": 2
   },
   "file_extension": ".py",
   "mimetype": "text/x-python",
   "name": "python",
   "nbconvert_exporter": "python",
   "pygments_lexer": "ipython2",
   "version": "2.7.11"
  }
 },
 "nbformat": 4,
 "nbformat_minor": 0
}
